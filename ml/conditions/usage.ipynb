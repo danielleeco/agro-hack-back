{
 "cells": [
  {
   "cell_type": "markdown",
   "metadata": {},
   "source": [
    "# USAGE\n"
   ]
  },
  {
   "cell_type": "code",
   "execution_count": 2,
   "metadata": {},
   "outputs": [],
   "source": [
    "import numpy as np\n",
    "import pandas as pd\n",
    "from catboost import CatBoostRegressor\n",
    "import json"
   ]
  },
  {
   "cell_type": "code",
   "execution_count": 20,
   "metadata": {},
   "outputs": [
    {
     "name": "stdout",
     "output_type": "stream",
     "text": [
      "[WinError 267] Неверно задано имя папки: 'prediction.ipynb'\n",
      "C:\\Users\\Admin\\desktop\\hackathon\n"
     ]
    }
   ],
   "source": [
    "cd prediction.ipynb"
   ]
  },
  {
   "cell_type": "code",
   "execution_count": 21,
   "metadata": {},
   "outputs": [],
   "source": [
    "sensors = pd.read_csv('sensor_data.csv')\n",
    "sensors.index = sensors.index[::-1]\n",
    "sensors.sort_index(inplace=True)"
   ]
  },
  {
   "cell_type": "code",
   "execution_count": 22,
   "metadata": {},
   "outputs": [],
   "source": [
    "model = CatBoostRegressor()\n",
    "model = model.load_model(\"predictions\")"
   ]
  },
  {
   "cell_type": "code",
   "execution_count": 23,
   "metadata": {},
   "outputs": [],
   "source": [
    "#sensors"
   ]
  },
  {
   "cell_type": "code",
   "execution_count": 50,
   "metadata": {},
   "outputs": [],
   "source": [
    "# fake data just for debugging\n",
    "p1 = sensors.iloc[:,[2,3,4,5]][405:406].fillna(0)\n",
    "p2 = sensors.iloc[:,[2,6,7,8]][306:307].fillna(0)\n",
    "p3 = sensors.iloc[:,[2,9,10,11]][546:547].fillna(0)\n",
    "p4 = sensors.iloc[:,[2,12,13,14]][783:784].fillna(0)\n",
    "p5 = sensors.iloc[:,[2,15,16,17]][1758:1759].fillna(0)"
   ]
  },
  {
   "cell_type": "code",
   "execution_count": 51,
   "metadata": {},
   "outputs": [
    {
     "data": {
      "text/html": [
       "<div>\n",
       "<style scoped>\n",
       "    .dataframe tbody tr th:only-of-type {\n",
       "        vertical-align: middle;\n",
       "    }\n",
       "\n",
       "    .dataframe tbody tr th {\n",
       "        vertical-align: top;\n",
       "    }\n",
       "\n",
       "    .dataframe thead th {\n",
       "        text-align: right;\n",
       "    }\n",
       "</style>\n",
       "<table border=\"1\" class=\"dataframe\">\n",
       "  <thead>\n",
       "    <tr style=\"text-align: right;\">\n",
       "      <th></th>\n",
       "      <th>nums</th>\n",
       "      <th>illumination_p1</th>\n",
       "      <th>soil_acidity_p1</th>\n",
       "      <th>relative_soil_mosture_p2</th>\n",
       "    </tr>\n",
       "  </thead>\n",
       "  <tbody>\n",
       "    <tr>\n",
       "      <th>306</th>\n",
       "      <td>490</td>\n",
       "      <td>0.0</td>\n",
       "      <td>6.868771</td>\n",
       "      <td>76.961527</td>\n",
       "    </tr>\n",
       "  </tbody>\n",
       "</table>\n",
       "</div>"
      ],
      "text/plain": [
       "     nums  illumination_p1  soil_acidity_p1  relative_soil_mosture_p2\n",
       "306   490              0.0         6.868771                 76.961527"
      ]
     },
     "execution_count": 51,
     "metadata": {},
     "output_type": "execute_result"
    }
   ],
   "source": [
    "p2"
   ]
  },
  {
   "cell_type": "code",
   "execution_count": 25,
   "metadata": {},
   "outputs": [],
   "source": [
    "def ranked_preds(d):\n",
    "    data = d\n",
    "    t_range = np.linspace(sensors.air_temperature.min(), sensors.air_temperature.max(), num = 10)\n",
    "    m_range = np.linspace(sensors.relative_soil_mosture_p1.min(), sensors.relative_soil_mosture_p1.max(), num = 10)\n",
    "    il_range = np.linspace(sensors.illumination_p1.min(), sensors.illumination_p1.max(), num = 10)\n",
    "    key = np.array([1]*10)\n",
    "\n",
    "    temp = pd.DataFrame({'key':key, 't_range':t_range})\n",
    "    moist = pd.DataFrame({'key':key, 'm_range':m_range})\n",
    "    ill = pd.DataFrame({'key':key, 'il_range':il_range})\n",
    "\n",
    "    # Castesian product \n",
    "    df = pd.merge(temp, moist, on='key')\n",
    "    df = pd.merge(df, ill, on='key')\n",
    "\n",
    "    data['key'] = 1\n",
    "    p = data.iloc[:,[3,4]]\n",
    "    predicted_params = pd.merge(df, p, on='key')\n",
    "        \n",
    "    predicted_params.drop(columns='key', inplace=True)\n",
    "    #predicted_params = predicted_params.iloc[:,[3,0,1,2,4]]\n",
    "\n",
    "    cols = ['air_temperature','relative_soil_mosture_p1','illumination_p1','soil_acidity_p1']\n",
    "    # renaming for model prediction\n",
    "    predicted_params.columns = cols\n",
    "\n",
    "    preds = model.predict(predicted_params)\n",
    "    return predicted_params[preds.argmax():preds.argmax()+1]"
   ]
  },
  {
   "cell_type": "code",
   "execution_count": 26,
   "metadata": {},
   "outputs": [],
   "source": [
    "def get_optimal(data):\n",
    "    rp = ranked_preds(data)\n",
    "    data = data.drop(columns='key')\n",
    "    data = data.fillna(0)\n",
    "\n",
    "    before = data.to_numpy()\n",
    "    after = rp.to_numpy()\n",
    "    optimal = after - before\n",
    "    return optimal"
   ]
  },
  {
   "cell_type": "code",
   "execution_count": 44,
   "metadata": {},
   "outputs": [
    {
     "data": {
      "text/html": [
       "<div>\n",
       "<style scoped>\n",
       "    .dataframe tbody tr th:only-of-type {\n",
       "        vertical-align: middle;\n",
       "    }\n",
       "\n",
       "    .dataframe tbody tr th {\n",
       "        vertical-align: top;\n",
       "    }\n",
       "\n",
       "    .dataframe thead th {\n",
       "        text-align: right;\n",
       "    }\n",
       "</style>\n",
       "<table border=\"1\" class=\"dataframe\">\n",
       "  <thead>\n",
       "    <tr style=\"text-align: right;\">\n",
       "      <th></th>\n",
       "      <th>nums</th>\n",
       "      <th>illumination_p1</th>\n",
       "      <th>soil_acidity_p1</th>\n",
       "      <th>relative_soil_mosture_p2</th>\n",
       "      <th>key</th>\n",
       "    </tr>\n",
       "  </thead>\n",
       "  <tbody>\n",
       "    <tr>\n",
       "      <th>306</th>\n",
       "      <td>490</td>\n",
       "      <td>NaN</td>\n",
       "      <td>6.868771</td>\n",
       "      <td>76.961527</td>\n",
       "      <td>1</td>\n",
       "    </tr>\n",
       "  </tbody>\n",
       "</table>\n",
       "</div>"
      ],
      "text/plain": [
       "     nums  illumination_p1  soil_acidity_p1  relative_soil_mosture_p2  key\n",
       "306   490              NaN         6.868771                 76.961527    1"
      ]
     },
     "execution_count": 44,
     "metadata": {},
     "output_type": "execute_result"
    }
   ],
   "source": [
    "p2"
   ]
  },
  {
   "cell_type": "code",
   "execution_count": 48,
   "metadata": {},
   "outputs": [],
   "source": [
    "def json_objects():\n",
    "    g = globals()\n",
    "    dict_to_js = {'data':[]\n",
    "         }\n",
    "        \n",
    "    labels = ['currentTemperature:', 'currentLightingLevel:', \n",
    "        'currentSoilMoisture:', 'currentSoilAcidity:', \n",
    "        'optimalTemperature:', 'optimalLightingLevel:', \n",
    "        'optimalSoilMoisture:', 'optimalSoilAcidity:'\n",
    "    ]\n",
    "    \n",
    "    for i in range(1,5):\n",
    "        g['g{0}'.format(i)] = get_optimal(g['p{0}'.format(i)])\n",
    "        g['ex{0}'.format(i)] = g['p{0}'.format(i)].drop(columns='key').values.tolist()[0] + list(g['g{0}'.format(i)][0])\n",
    "\n",
    "        d = dict(zip(labels,g['ex{0}'.format(i)]))\n",
    "        dict_to_js['data'].append(d) \n",
    "        \n",
    "    return dict_to_js"
   ]
  },
  {
   "cell_type": "code",
   "execution_count": 52,
   "metadata": {},
   "outputs": [
    {
     "data": {
      "text/plain": [
       "{'data': [{'currentTemperature:': 391.0,\n",
       "   'currentLightingLevel:': 1.0,\n",
       "   'currentSoilMoisture:': 13.1,\n",
       "   'currentSoilAcidity:': 81.48914445,\n",
       "   'optimalTemperature:': -363.14444444444445,\n",
       "   'optimalLightingLevel:': 11.80270412,\n",
       "   'optimalSoilMoisture:': -15.68481544,\n",
       "   'optimalSoilAcidity:': 0.0},\n",
       "  {'currentTemperature:': 490.0,\n",
       "   'currentLightingLevel:': 0.0,\n",
       "   'currentSoilMoisture:': 6.86877141,\n",
       "   'currentSoilAcidity:': 76.96152709,\n",
       "   'optimalTemperature:': -462.14444444444445,\n",
       "   'optimalLightingLevel:': 12.80270412,\n",
       "   'optimalSoilMoisture:': -9.45358685,\n",
       "   'optimalSoilAcidity:': 0.0},\n",
       "  {'currentTemperature:': 250.0,\n",
       "   'currentLightingLevel:': 92.40550663,\n",
       "   'currentSoilMoisture:': 7.226468134,\n",
       "   'currentSoilAcidity:': 82.56174975,\n",
       "   'optimalTemperature:': -222.14444444444445,\n",
       "   'optimalLightingLevel:': -79.60280251,\n",
       "   'optimalSoilMoisture:': -9.811283574,\n",
       "   'optimalSoilAcidity:': 0.0},\n",
       "  {'currentTemperature:': 13.0,\n",
       "   'currentLightingLevel:': 11.75072397,\n",
       "   'currentSoilMoisture:': 7.204192996000001,\n",
       "   'currentSoilAcidity:': 96.37611126,\n",
       "   'optimalTemperature:': 14.855555555555554,\n",
       "   'optimalLightingLevel:': 1.0519801500000003,\n",
       "   'optimalSoilMoisture:': -9.789008436,\n",
       "   'optimalSoilAcidity:': 0.0}]}"
      ]
     },
     "execution_count": 52,
     "metadata": {},
     "output_type": "execute_result"
    }
   ],
   "source": [
    "json_objects()"
   ]
  },
  {
   "cell_type": "code",
   "execution_count": null,
   "metadata": {},
   "outputs": [],
   "source": []
  },
  {
   "cell_type": "code",
   "execution_count": null,
   "metadata": {},
   "outputs": [],
   "source": []
  },
  {
   "cell_type": "code",
   "execution_count": null,
   "metadata": {},
   "outputs": [],
   "source": []
  }
 ],
 "metadata": {
  "kernelspec": {
   "display_name": "Python 3.8.2 64-bit",
   "language": "python",
   "name": "python38264bit0810d9a9b05f44c4ac38f67522af09b0"
  },
  "language_info": {
   "codemirror_mode": {
    "name": "ipython",
    "version": 3
   },
   "file_extension": ".py",
   "mimetype": "text/x-python",
   "name": "python",
   "nbconvert_exporter": "python",
   "pygments_lexer": "ipython3",
   "version": "3.8.2"
  }
 },
 "nbformat": 4,
 "nbformat_minor": 4
}
